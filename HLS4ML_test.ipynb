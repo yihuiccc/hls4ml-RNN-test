{
 "cells": [
  {
   "cell_type": "code",
   "execution_count": 1,
   "id": "14e7390a",
   "metadata": {
    "scrolled": true
   },
   "outputs": [
    {
     "name": "stderr",
     "output_type": "stream",
     "text": [
      "2023-01-26 23:43:42.395342: W tensorflow/stream_executor/platform/default/dso_loader.cc:64] Could not load dynamic library 'libcudart.so.11.0'; dlerror: libcudart.so.11.0: cannot open shared object file: No such file or directory\n",
      "2023-01-26 23:43:42.395369: I tensorflow/stream_executor/cuda/cudart_stub.cc:29] Ignore above cudart dlerror if you do not have a GPU set up on your machine.\n"
     ]
    }
   ],
   "source": [
    "from tensorflow.keras.utils import to_categorical\n",
    "from sklearn.datasets import fetch_openml\n",
    "from sklearn.model_selection import train_test_split\n",
    "from sklearn.preprocessing import LabelEncoder, StandardScaler\n",
    "from tensorflow.keras.models import Model, Sequential\n",
    "import numpy as np\n",
    "%matplotlib inline\n",
    "seed = 0\n",
    "np.random.seed(seed)\n",
    "import tensorflow as tf\n",
    "tf.random.set_seed(seed)\n",
    "\n",
    "\n",
    "from tensorflow.keras.layers import Input, Dense, Dropout, LSTM, Flatten, GRU,TimeDistributed, Conv1D\n",
    "from qkeras import *\n",
    "from tensorflow.keras.models import load_model\n",
    "from qkeras.utils import model_save_quantized_weights\n",
    "import os\n",
    "os.environ['PATH'] = '/tools/Xilinx/Vivado/2019.2/bin:' + os.environ['PATH']\n"
   ]
  },
  {
   "cell_type": "code",
   "execution_count": 2,
   "id": "762cbd41",
   "metadata": {},
   "outputs": [],
   "source": [
    "# import plotting\n",
    "import matplotlib.pyplot as plt\n",
    "from sklearn.metrics import roc_auc_score"
   ]
  },
  {
   "cell_type": "code",
   "execution_count": 3,
   "id": "60e3da43",
   "metadata": {},
   "outputs": [],
   "source": [
    "# Load Testing Data\n",
    "x_test = np.load('./toptag_model/x_test.npy')\n",
    "y_test = np.load('./toptag_model/y_test.npy')"
   ]
  },
  {
   "cell_type": "markdown",
   "id": "460117c5",
   "metadata": {},
   "source": [
    "## Do hls4ml with Keras model"
   ]
  },
  {
   "cell_type": "markdown",
   "id": "8d682f32",
   "metadata": {},
   "source": [
    "### (a)GRU"
   ]
  },
  {
   "cell_type": "code",
   "execution_count": 4,
   "id": "9a1c28fe",
   "metadata": {},
   "outputs": [
    {
     "name": "stderr",
     "output_type": "stream",
     "text": [
      "2023-01-23 17:10:01.030834: W tensorflow/stream_executor/platform/default/dso_loader.cc:64] Could not load dynamic library 'libcuda.so.1'; dlerror: libcuda.so.1: cannot open shared object file: No such file or directory\n",
      "2023-01-23 17:10:01.030876: W tensorflow/stream_executor/cuda/cuda_driver.cc:269] failed call to cuInit: UNKNOWN ERROR (303)\n",
      "2023-01-23 17:10:01.030912: I tensorflow/stream_executor/cuda/cuda_diagnostics.cc:156] kernel driver does not appear to be running on this host (Dennis-Linux): /proc/driver/nvidia/version does not exist\n"
     ]
    }
   ],
   "source": [
    "gru = load_model('./toptag_model/gru/model_gru.h5')"
   ]
  },
  {
   "cell_type": "code",
   "execution_count": null,
   "id": "c13d40a8",
   "metadata": {},
   "outputs": [],
   "source": [
    "gru.compile()\n",
    "y_gru = gru.predict(x_test)"
   ]
  },
  {
   "cell_type": "code",
   "execution_count": null,
   "id": "e7a0a71d",
   "metadata": {},
   "outputs": [],
   "source": [
    "print(\"hls4ml Accuracy: {}\".format(roc_auc_score(y_test, y_gru)))"
   ]
  },
  {
   "cell_type": "code",
   "execution_count": 6,
   "id": "72f085ac",
   "metadata": {},
   "outputs": [
    {
     "name": "stdout",
     "output_type": "stream",
     "text": [
      "Interpreting Sequential\n",
      "Topology:\n",
      "Layer name: layer1_input, layer type: InputLayer, input shapes: [[None, 20, 6]], output shape: [None, 20, 6]\n",
      "Layer name: layer1, layer type: GRU, input shapes: [[None, 20, 6]], output shape: [None, 20]\n",
      "Layer name: layer2, layer type: Dense, input shapes: [[None, 20]], output shape: [None, 64]\n",
      "Layer name: relu_0, layer type: Activation, input shapes: [[None, 64]], output shape: [None, 64]\n",
      "Layer name: layer4, layer type: Dense, input shapes: [[None, 64]], output shape: [None, 1]\n",
      "Layer name: output_sigmoid, layer type: Activation, input shapes: [[None, 1]], output shape: [None, 1]\n",
      "-----------------------------------\n",
      "Configuration\n",
      "-----------------------------------\n",
      "Interpreting Sequential\n",
      "Topology:\n",
      "Layer name: layer1_input, layer type: InputLayer, input shapes: [[None, 20, 6]], output shape: [None, 20, 6]\n",
      "Layer name: layer1, layer type: GRU, input shapes: [[None, 20, 6]], output shape: [None, 20]\n",
      "Layer name: layer2, layer type: Dense, input shapes: [[None, 20]], output shape: [None, 64]\n",
      "Layer name: relu_0, layer type: Activation, input shapes: [[None, 64]], output shape: [None, 64]\n",
      "Layer name: layer4, layer type: Dense, input shapes: [[None, 64]], output shape: [None, 1]\n",
      "Layer name: output_sigmoid, layer type: Activation, input shapes: [[None, 1]], output shape: [None, 1]\n",
      "Creating HLS model\n"
     ]
    },
    {
     "name": "stderr",
     "output_type": "stream",
     "text": [
      "/home/dennis/cyhfiles/hls4ml/hls4ml/converters/__init__.py:24: UserWarning: WARNING: Pytorch converter is not enabled!\n",
      "  warnings.warn(\"WARNING: Pytorch converter is not enabled!\")\n",
      "/home/dennis/cyhfiles/hls4ml/hls4ml/converters/__init__.py:33: UserWarning: WARNING: ONNX converter is not enabled!\n",
      "  warnings.warn(\"WARNING: ONNX converter is not enabled!\")\n"
     ]
    }
   ],
   "source": [
    "import hls4ml\n",
    "import plotting\n",
    "config = hls4ml.utils.config_from_keras_model(gru, granularity='model')\n",
    "print(\"-----------------------------------\")\n",
    "print(\"Configuration\")\n",
    "plotting.print_dict(config)\n",
    "print(\"-----------------------------------\")\n",
    "hls_model = hls4ml.converters.convert_from_keras_model(gru,\n",
    "                                                       hls_config=config,\n",
    "                                                       output_dir='model_toptag_gru/hls4ml2int4fra_prj',\n",
    "                                                       part='xcu250-figd2104-2L-e') "
   ]
  },
  {
   "cell_type": "code",
   "execution_count": null,
   "id": "f93e976c",
   "metadata": {},
   "outputs": [],
   "source": [
    "hls_model.compile()"
   ]
  },
  {
   "cell_type": "code",
   "execution_count": null,
   "id": "8283ecff",
   "metadata": {},
   "outputs": [],
   "source": [
    "hls_model.build(csim=False)"
   ]
  },
  {
   "cell_type": "markdown",
   "id": "1c9016d6",
   "metadata": {},
   "source": [
    "### LSTM"
   ]
  },
  {
   "cell_type": "code",
   "execution_count": 4,
   "id": "f9a0aad1",
   "metadata": {},
   "outputs": [],
   "source": [
    "lstm = load_model('./toptag_model/lstm/model_lstm.h5')"
   ]
  },
  {
   "cell_type": "code",
   "execution_count": null,
   "id": "12da35b8",
   "metadata": {},
   "outputs": [],
   "source": [
    "lstm.compile()"
   ]
  },
  {
   "cell_type": "code",
   "execution_count": null,
   "id": "aa034b24",
   "metadata": {},
   "outputs": [],
   "source": [
    "import hls4ml\n",
    "import plotting\n",
    "config = hls4ml.utils.config_from_keras_model(lstm, granularity='model')\n",
    "print(\"-----------------------------------\")\n",
    "print(\"Configuration\")\n",
    "plotting.print_dict(config)\n",
    "print(\"-----------------------------------\")\n",
    "hls_model = hls4ml.converters.convert_from_keras_model(lstm,\n",
    "                                                       hls_config=config,\n",
    "                                                       output_dir='model_toptag_lstm/hls4ml2int4fra_prj',\n",
    "                                                       part='xcu250-figd2104-2L-e') "
   ]
  },
  {
   "cell_type": "code",
   "execution_count": null,
   "id": "57ece1e5",
   "metadata": {},
   "outputs": [],
   "source": [
    "hls_model.compile()"
   ]
  },
  {
   "cell_type": "code",
   "execution_count": null,
   "id": "a324ba98",
   "metadata": {},
   "outputs": [],
   "source": [
    "hls_model.build(csim=False)"
   ]
  },
  {
   "cell_type": "markdown",
   "id": "ae4e57f6",
   "metadata": {},
   "source": [
    "## Do hls4ml with Qkeras model"
   ]
  },
  {
   "cell_type": "markdown",
   "id": "f8e8119c",
   "metadata": {},
   "source": [
    "### (a) QGRU"
   ]
  },
  {
   "cell_type": "code",
   "execution_count": 4,
   "id": "da2fc401",
   "metadata": {},
   "outputs": [
    {
     "name": "stderr",
     "output_type": "stream",
     "text": [
      "2023-01-23 13:43:27.578899: W tensorflow/stream_executor/platform/default/dso_loader.cc:64] Could not load dynamic library 'libcuda.so.1'; dlerror: libcuda.so.1: cannot open shared object file: No such file or directory\n",
      "2023-01-23 13:43:27.578948: W tensorflow/stream_executor/cuda/cuda_driver.cc:326] failed call to cuInit: UNKNOWN ERROR (303)\n",
      "2023-01-23 13:43:27.578984: I tensorflow/stream_executor/cuda/cuda_diagnostics.cc:156] kernel driver does not appear to be running on this host (Dennis-Linux): /proc/driver/nvidia/version does not exist\n"
     ]
    },
    {
     "name": "stdout",
     "output_type": "stream",
     "text": [
      "Model: \"sequential\"\n",
      "_________________________________________________________________\n",
      "Layer (type)                 Output Shape              Param #   \n",
      "=================================================================\n",
      "layer1 (GRU)                 (None, 20)                1680      \n",
      "_________________________________________________________________\n",
      "layer2 (Dense)               (None, 64)                1344      \n",
      "_________________________________________________________________\n",
      "relu_0 (Activation)          (None, 64)                0         \n",
      "_________________________________________________________________\n",
      "layer4 (Dense)               (None, 1)                 65        \n",
      "_________________________________________________________________\n",
      "output_sigmoid (Activation)  (None, 1)                 0         \n",
      "=================================================================\n",
      "Total params: 3,089\n",
      "Trainable params: 3,089\n",
      "Non-trainable params: 0\n",
      "_________________________________________________________________\n"
     ]
    }
   ],
   "source": [
    "gru = Sequential()\n",
    "gru.add(GRU(20, kernel_initializer = 'VarianceScaling', kernel_regularizer = regularizers.l1_l2(l1= 0.00001, l2 = 0.0001), name = 'layer1', input_shape = (20,6)))\n",
    "gru.add(Dense(64,  kernel_initializer='glorot_normal', name='layer2')) #kernel_regularizer = regularizers.l1_l2(l1= 0.0001, l2 = 0.0001),\n",
    "gru.add(Activation('relu', name = 'relu_0'))\n",
    "gru.add(Dense(1, name = 'layer4'))\n",
    "gru.add(Activation('sigmoid', name = 'output_sigmoid'))\n",
    "gru.summary()"
   ]
  },
  {
   "cell_type": "code",
   "execution_count": 5,
   "id": "8279b040",
   "metadata": {},
   "outputs": [
    {
     "name": "stdout",
     "output_type": "stream",
     "text": [
      "... quantizing model\n"
     ]
    }
   ],
   "source": [
    "## Load qkeras weight back into keras model\n",
    "qgru = load_model('./toptag_model/qgru_2int/model_qgru_4frac.h5', custom_objects={'QGRU':QGRU,'QDense':QDense,'quantized_bits': quantized_bits, 'QActivation': QActivation})\n",
    "model_save_quantized_weights(qgru, \"gru22test.h5\")\n",
    "gru.load_weights('gru22test.h5')\n"
   ]
  },
  {
   "cell_type": "code",
   "execution_count": 5,
   "id": "de4f5ba0",
   "metadata": {},
   "outputs": [],
   "source": [
    "gru.compile()\n",
    "y_gru = gru.predict(x_test)"
   ]
  },
  {
   "cell_type": "code",
   "execution_count": 18,
   "id": "f7c7d264",
   "metadata": {},
   "outputs": [
    {
     "name": "stdout",
     "output_type": "stream",
     "text": [
      "hls4ml Accuracy: 0.9294431894435856\n"
     ]
    }
   ],
   "source": [
    "print(\"hls4ml Accuracy: {}\".format(roc_auc_score(y_test, y_gru)))"
   ]
  },
  {
   "cell_type": "code",
   "execution_count": 7,
   "id": "2a1f9cb3",
   "metadata": {},
   "outputs": [
    {
     "name": "stdout",
     "output_type": "stream",
     "text": [
      "Interpreting Sequential\n",
      "Topology:\n",
      "Layer name: layer1_input, layer type: InputLayer, input shapes: [[None, 20, 6]], output shape: [None, 20, 6]\n",
      "Layer name: layer1, layer type: LSTM, input shapes: [[None, 20, 6]], output shape: [None, 20]\n",
      "Layer name: layer3, layer type: Dense, input shapes: [[None, 20]], output shape: [None, 64]\n",
      "Layer name: relu_0, layer type: Activation, input shapes: [[None, 64]], output shape: [None, 64]\n",
      "Layer name: layer5, layer type: Dense, input shapes: [[None, 64]], output shape: [None, 1]\n",
      "Layer name: output_sigmoid, layer type: Activation, input shapes: [[None, 1]], output shape: [None, 1]\n",
      "-----------------------------------\n",
      "Configuration\n",
      "-----------------------------------\n",
      "Interpreting Sequential\n",
      "Topology:\n",
      "Layer name: layer1_input, layer type: InputLayer, input shapes: [[None, 20, 6]], output shape: [None, 20, 6]\n",
      "Layer name: layer1, layer type: LSTM, input shapes: [[None, 20, 6]], output shape: [None, 20]\n",
      "Layer name: layer3, layer type: Dense, input shapes: [[None, 20]], output shape: [None, 64]\n",
      "Layer name: relu_0, layer type: Activation, input shapes: [[None, 64]], output shape: [None, 64]\n",
      "Layer name: layer5, layer type: Dense, input shapes: [[None, 64]], output shape: [None, 1]\n",
      "Layer name: output_sigmoid, layer type: Activation, input shapes: [[None, 1]], output shape: [None, 1]\n",
      "Creating HLS model\n"
     ]
    }
   ],
   "source": [
    "import hls4ml\n",
    "import plotting\n",
    "config = hls4ml.utils.config_from_keras_model(lstm, granularity='model')\n",
    "print(\"-----------------------------------\")\n",
    "print(\"Configuration\")\n",
    "plotting.print_dict(config)\n",
    "print(\"-----------------------------------\")\n",
    "hls_model = hls4ml.converters.convert_from_keras_model(lstm,\n",
    "                                                       hls_config=config,\n",
    "                                                       output_dir='model_toptag_lstm/hls4ml2int4fra_prj',\n",
    "                                                       part='xcu250-figd2104-2L-e') "
   ]
  },
  {
   "cell_type": "code",
   "execution_count": 7,
   "id": "0140005f",
   "metadata": {},
   "outputs": [
    {
     "data": {
      "image/png": "[encoded data removed]",
      "text/plain": [
       "<IPython.core.display.Image object>"
      ]
     },
     "execution_count": 7,
     "metadata": {},
     "output_type": "execute_result"
    }
   ],
   "source": [
    "hls4ml.utils.plot_model(hls_model, show_shapes=True, show_precision=True, to_file=None)"
   ]
  },
  {
   "cell_type": "code",
   "execution_count": 8,
   "id": "4b589e80",
   "metadata": {},
   "outputs": [
    {
     "name": "stdout",
     "output_type": "stream",
     "text": [
      "Writing HLS project\n",
      "Done\n"
     ]
    }
   ],
   "source": [
    "hls_model.compile()\n",
    "# X_test = np.ascontiguousarray(x_test)\n",
    "# y_hls = hls_model.predict(x_test)"
   ]
  },
  {
   "cell_type": "code",
   "execution_count": 11,
   "id": "34593f84",
   "metadata": {},
   "outputs": [
    {
     "ename": "NameError",
     "evalue": "name 'y_gru' is not defined",
     "output_type": "error",
     "traceback": [
      "\u001b[0;31m---------------------------------------------------------------------------\u001b[0m",
      "\u001b[0;31mNameError\u001b[0m                                 Traceback (most recent call last)",
      "Cell \u001b[0;32mIn[11], line 1\u001b[0m\n\u001b[0;32m----> 1\u001b[0m \u001b[38;5;28mprint\u001b[39m(\u001b[38;5;124m\"\u001b[39m\u001b[38;5;124mqkeras Accuracy: \u001b[39m\u001b[38;5;132;01m{}\u001b[39;00m\u001b[38;5;124m\"\u001b[39m\u001b[38;5;241m.\u001b[39mformat(roc_auc_score(y_test, \u001b[43my_gru\u001b[49m)))\n\u001b[1;32m      2\u001b[0m \u001b[38;5;28mprint\u001b[39m(\u001b[38;5;124m\"\u001b[39m\u001b[38;5;124mhls4ml Accuracy: \u001b[39m\u001b[38;5;132;01m{}\u001b[39;00m\u001b[38;5;124m\"\u001b[39m\u001b[38;5;241m.\u001b[39mformat(roc_auc_score(y_test,y_hls)))\n",
      "\u001b[0;31mNameError\u001b[0m: name 'y_gru' is not defined"
     ]
    }
   ],
   "source": [
    "print(\"qkeras Accuracy: {}\".format(roc_auc_score(y_test, y_gru)))\n",
    "print(\"hls4ml Accuracy: {}\".format(roc_auc_score(y_test,y_hls)))"
   ]
  },
  {
   "cell_type": "code",
   "execution_count": 10,
   "id": "582fa911",
   "metadata": {
    "scrolled": true
   },
   "outputs": [
    {
     "name": "stdout",
     "output_type": "stream",
     "text": [
      "\n",
      "****** Vivado(TM) HLS - High-Level Synthesis from C, C++ and SystemC v2019.2 (64-bit)\n",
      "  **** SW Build 2708876 on Wed Nov  6 21:39:14 MST 2019\n",
      "  **** IP Build 2700528 on Thu Nov  7 00:09:20 MST 2019\n",
      "    ** Copyright 1986-2019 Xilinx, Inc. All Rights Reserved.\n",
      "\n",
      "source /tools/Xilinx/Vivado/2019.2/scripts/vivado_hls/hls.tcl -notrace\n",
      "INFO: [HLS 200-10] Running '/tools/Xilinx/Vivado/2019.2/bin/unwrapped/lnx64.o/vivado_hls'\n",
      "INFO: [HLS 200-10] For user 'dennis' on host 'Dennis-Linux' (Linux_x86_64 version 4.15.0-202-generic) on Fri Jan 27 01:13:42 PST 2023\n",
      "INFO: [HLS 200-10] On os Ubuntu 18.04.6 LTS\n",
      "INFO: [HLS 200-10] In directory '/home/dennis/cyhfiles/hls4ml-rnnpaper/model_toptag_lstm/hls4ml2int4fra_prj'\n",
      "Sourcing Tcl script 'build_prj.tcl'\n",
      "expected boolean value but got \"Falsecsim\"\n",
      "    while executing\n",
      "\"if {$opt(reset)} {\n",
      "    open_project -reset ${project_name}_prj\n",
      "} else {\n",
      "    open_project ${project_name}_prj\n",
      "}\"\n",
      "    (file \"build_prj.tcl\" line 149)\n",
      "    invoked from within\n",
      "\"source build_prj.tcl\"\n",
      "    (\"uplevel\" body line 1)\n",
      "    invoked from within\n",
      "\"uplevel \\#0 [list source $arg] \"\n",
      "\n",
      "INFO: [Common 17-206] Exiting vivado_hls at Fri Jan 27 01:13:42 2023...\n",
      "CSynthesis report not found.\n",
      "Vivado synthesis report not found.\n",
      "Cosim report not found.\n",
      "Timing report not found.\n"
     ]
    },
    {
     "data": {
      "text/plain": [
       "{}"
      ]
     },
     "execution_count": 10,
     "metadata": {},
     "output_type": "execute_result"
    }
   ],
   "source": [
    "hls_model.build(csim=False)"
   ]
  },
  {
   "cell_type": "code",
   "execution_count": 18,
   "id": "8a663c0b",
   "metadata": {},
   "outputs": [
    {
     "name": "stdout",
     "output_type": "stream",
     "text": [
      "Project myproject_prj does not exist. Rerun \"hls4ml build -p model_toptag_gru/hls4ml2int4fra_prj/\".\n"
     ]
    }
   ],
   "source": [
    "hls4ml.report.read_vivado_report('model_toptag_gru/hls4ml2int4fra_prj/')"
   ]
  },
  {
   "cell_type": "markdown",
   "id": "91496058",
   "metadata": {},
   "source": [
    "### (b) QLSTM"
   ]
  },
  {
   "cell_type": "code",
   "execution_count": 3,
   "id": "5690e034",
   "metadata": {},
   "outputs": [
    {
     "name": "stderr",
     "output_type": "stream",
     "text": [
      "2023-01-26 23:43:58.360939: W tensorflow/stream_executor/platform/default/dso_loader.cc:64] Could not load dynamic library 'libcuda.so.1'; dlerror: libcuda.so.1: cannot open shared object file: No such file or directory\n",
      "2023-01-26 23:43:58.360974: W tensorflow/stream_executor/cuda/cuda_driver.cc:269] failed call to cuInit: UNKNOWN ERROR (303)\n",
      "2023-01-26 23:43:58.361001: I tensorflow/stream_executor/cuda/cuda_diagnostics.cc:156] kernel driver does not appear to be running on this host (Dennis-Linux): /proc/driver/nvidia/version does not exist\n"
     ]
    },
    {
     "ename": "NameError",
     "evalue": "name 'model' is not defined",
     "output_type": "error",
     "traceback": [
      "\u001b[0;31m---------------------------------------------------------------------------\u001b[0m",
      "\u001b[0;31mNameError\u001b[0m                                 Traceback (most recent call last)",
      "Cell \u001b[0;32mIn[3], line 7\u001b[0m\n\u001b[1;32m      5\u001b[0m lstm\u001b[38;5;241m.\u001b[39madd(Activation(\u001b[38;5;124m'\u001b[39m\u001b[38;5;124mrelu\u001b[39m\u001b[38;5;124m'\u001b[39m, name \u001b[38;5;241m=\u001b[39m \u001b[38;5;124m'\u001b[39m\u001b[38;5;124mrelu_0\u001b[39m\u001b[38;5;124m'\u001b[39m))\n\u001b[1;32m      6\u001b[0m lstm\u001b[38;5;241m.\u001b[39madd(Dense(\u001b[38;5;241m1\u001b[39m, name \u001b[38;5;241m=\u001b[39m \u001b[38;5;124m'\u001b[39m\u001b[38;5;124mlayer5\u001b[39m\u001b[38;5;124m'\u001b[39m))\n\u001b[0;32m----> 7\u001b[0m \u001b[43mmodel\u001b[49m\u001b[38;5;241m.\u001b[39madd(Activation(\u001b[38;5;124m'\u001b[39m\u001b[38;5;124msigmoid\u001b[39m\u001b[38;5;124m'\u001b[39m, name \u001b[38;5;241m=\u001b[39m \u001b[38;5;124m'\u001b[39m\u001b[38;5;124moutput_sigmoid\u001b[39m\u001b[38;5;124m'\u001b[39m))\n\u001b[1;32m      8\u001b[0m model\u001b[38;5;241m.\u001b[39msummary()\n",
      "\u001b[0;31mNameError\u001b[0m: name 'model' is not defined"
     ]
    }
   ],
   "source": [
    "lstm = Sequential()\n",
    "lstm.add(LSTM(20, kernel_initializer = 'VarianceScaling', kernel_regularizer = regularizers.l1_l2(l1= 0.00001, l2 = 0.0001),\n",
    "               name = 'layer1', input_shape = (20,6)))\n",
    "lstm.add(Dense(64, kernel_initializer='glorot_normal', name='layer2'))\n",
    "lstm.add(Activation('relu', name = 'relu_0'))\n",
    "lstm.add(Dense(1, name = 'layer5'))\n",
    "model.add(Activation('sigmoid', name = 'output_sigmoid'))\n",
    "model.summary()"
   ]
  },
  {
   "cell_type": "code",
   "execution_count": 11,
   "id": "04958696",
   "metadata": {},
   "outputs": [],
   "source": [
    "## Load qkeras weight back into keras model\n",
    "qlstm = load_model('./toptag_model/qlstm_2int/model_qlstm_4frac.h5', custom_objects={'QLSTM':QLSTM,'QDense':QDense,'quantized_bits': quantized_bits, 'QActivation': QActivation})\n",
    "model_save_quantized_weights(qlstm, \"lstm22test.h5\")\n",
    "lstm.load_weights('lstm22test.h5')"
   ]
  },
  {
   "cell_type": "code",
   "execution_count": 10,
   "id": "c1d35fb4",
   "metadata": {},
   "outputs": [
    {
     "name": "stdout",
     "output_type": "stream",
     "text": [
      "Interpreting Sequential\n",
      "Topology:\n",
      "Layer name: layer1_input, layer type: InputLayer, input shapes: [[None, 20, 6]], output shape: [None, 20, 6]\n",
      "Layer name: layer1, layer type: LSTM, input shapes: [[None, 20, 6]], output shape: [None, 20]\n",
      "Layer name: layer3, layer type: Dense, input shapes: [[None, 20]], output shape: [None, 64]\n",
      "Layer name: relu_0, layer type: Activation, input shapes: [[None, 64]], output shape: [None, 64]\n",
      "Layer name: layer5, layer type: Dense, input shapes: [[None, 64]], output shape: [None, 1]\n",
      "Layer name: output_sigmoid, layer type: Activation, input shapes: [[None, 1]], output shape: [None, 1]\n",
      "-----------------------------------\n",
      "Configuration\n",
      "Model\n",
      "  Precision:         fixed<16,6>\n",
      "  ReuseFactor:       1\n",
      "  Strategy:          Latency\n",
      "  BramFactor:        1000000000\n",
      "  TraceOutput:       False\n",
      "-----------------------------------\n",
      "Interpreting Sequential\n",
      "Topology:\n",
      "Layer name: layer1_input, layer type: InputLayer, input shapes: [[None, 20, 6]], output shape: [None, 20, 6]\n",
      "Layer name: layer1, layer type: LSTM, input shapes: [[None, 20, 6]], output shape: [None, 20]\n",
      "Layer name: layer3, layer type: Dense, input shapes: [[None, 20]], output shape: [None, 64]\n",
      "Layer name: relu_0, layer type: Activation, input shapes: [[None, 64]], output shape: [None, 64]\n",
      "Layer name: layer5, layer type: Dense, input shapes: [[None, 64]], output shape: [None, 1]\n",
      "Layer name: output_sigmoid, layer type: Activation, input shapes: [[None, 1]], output shape: [None, 1]\n",
      "Creating HLS model\n"
     ]
    }
   ],
   "source": [
    "import hls4ml\n",
    "config = hls4ml.utils.config_from_keras_model(lstm, granularity='model')\n",
    "print(\"-----------------------------------\")\n",
    "print(\"Configuration\")\n",
    "plotting.print_dict(config)\n",
    "print(\"-----------------------------------\")\n",
    "hls_model = hls4ml.converters.convert_from_keras_model(lstm,\n",
    "                                                       hls_config=config,\n",
    "                                                       output_dir='model_1/hls4ml_prj',\n",
    "                                                       part='xcu250-figd2104-2L-e') "
   ]
  },
  {
   "cell_type": "code",
   "execution_count": null,
   "id": "b61d4a45",
   "metadata": {},
   "outputs": [],
   "source": [
    "hls4ml.utils.plot_model(hls_model, show_shapes=True, show_precision=True, to_file=None)"
   ]
  },
  {
   "cell_type": "code",
   "execution_count": null,
   "id": "bb7b2ecf",
   "metadata": {},
   "outputs": [],
   "source": [
    "hls_model.compile()\n",
    "X_test = np.ascontiguousarray(X_test)\n",
    "y_hls = hls_model.predict(X_test)\n"
   ]
  },
  {
   "cell_type": "code",
   "execution_count": null,
   "id": "d80a41cf",
   "metadata": {},
   "outputs": [],
   "source": [
    "print(\"hls4ml Accuracy: {}\".format(accuracy_score(np.argmax(y_test, axis=1), np.argmax(y_hls, axis=1))))"
   ]
  },
  {
   "cell_type": "code",
   "execution_count": null,
   "id": "e11eb3e9",
   "metadata": {},
   "outputs": [],
   "source": [
    "hls_model.build(csim=False)"
   ]
  }
 ],
 "metadata": {
  "kernelspec": {
   "display_name": "Python 3 (ipykernel)",
   "language": "python",
   "name": "python3"
  },
  "language_info": {
   "codemirror_mode": {
    "name": "ipython",
    "version": 3
   },
   "file_extension": ".py",
   "mimetype": "text/x-python",
   "name": "python",
   "nbconvert_exporter": "python",
   "pygments_lexer": "ipython3",
   "version": "3.8.13"
  }
 },
 "nbformat": 4,
 "nbformat_minor": 5
}
